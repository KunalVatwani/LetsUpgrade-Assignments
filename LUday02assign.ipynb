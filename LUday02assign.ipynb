{
  "nbformat": 4,
  "nbformat_minor": 0,
  "metadata": {
    "colab": {
      "name": "LUday02assign.ipynb",
      "provenance": [],
      "authorship_tag": "ABX9TyNNkMfrTPFD1CP2FwDOA1no",
      "include_colab_link": true
    },
    "kernelspec": {
      "name": "python3",
      "display_name": "Python 3"
    },
    "language_info": {
      "name": "python"
    }
  },
  "cells": [
    {
      "cell_type": "markdown",
      "metadata": {
        "id": "view-in-github",
        "colab_type": "text"
      },
      "source": [
        "<a href=\"https://colab.research.google.com/github/KunalVatwani/LetsUpgrade-Assignments/blob/main/LUday02assign.ipynb\" target=\"_parent\"><img src=\"https://colab.research.google.com/assets/colab-badge.svg\" alt=\"Open In Colab\"/></a>"
      ]
    },
    {
      "cell_type": "code",
      "metadata": {
        "id": "y_2a1ltDYYMc"
      },
      "source": [
        "import numpy as np\n",
        "import matplotlib as mpl\n",
        "import matplotlib.pyplot as plt\n",
        "%matplotlib inline\n",
        "import seaborn as sns\n",
        "import pandas as pd\n",
        "from numpy.random import randn, randint, uniform, sample\n"
      ],
      "execution_count": 4,
      "outputs": []
    },
    {
      "cell_type": "code",
      "metadata": {
        "colab": {
          "base_uri": "https://localhost:8080/",
          "height": 359
        },
        "id": "6YV0WbFhZOEu",
        "outputId": "8afae49d-3139-419e-a93c-cec528e0bec4"
      },
      "source": [
        "df = pd.DataFrame(randn(10,4), columns = ['a','b','c','d'])\n",
        "df"
      ],
      "execution_count": 5,
      "outputs": [
        {
          "output_type": "execute_result",
          "data": {
            "text/html": [
              "<div>\n",
              "<style scoped>\n",
              "    .dataframe tbody tr th:only-of-type {\n",
              "        vertical-align: middle;\n",
              "    }\n",
              "\n",
              "    .dataframe tbody tr th {\n",
              "        vertical-align: top;\n",
              "    }\n",
              "\n",
              "    .dataframe thead th {\n",
              "        text-align: right;\n",
              "    }\n",
              "</style>\n",
              "<table border=\"1\" class=\"dataframe\">\n",
              "  <thead>\n",
              "    <tr style=\"text-align: right;\">\n",
              "      <th></th>\n",
              "      <th>a</th>\n",
              "      <th>b</th>\n",
              "      <th>c</th>\n",
              "      <th>d</th>\n",
              "    </tr>\n",
              "  </thead>\n",
              "  <tbody>\n",
              "    <tr>\n",
              "      <th>0</th>\n",
              "      <td>1.180428</td>\n",
              "      <td>-0.345343</td>\n",
              "      <td>0.463095</td>\n",
              "      <td>0.299796</td>\n",
              "    </tr>\n",
              "    <tr>\n",
              "      <th>1</th>\n",
              "      <td>2.324571</td>\n",
              "      <td>0.241310</td>\n",
              "      <td>-0.036234</td>\n",
              "      <td>-0.810664</td>\n",
              "    </tr>\n",
              "    <tr>\n",
              "      <th>2</th>\n",
              "      <td>-0.304005</td>\n",
              "      <td>0.183148</td>\n",
              "      <td>1.104379</td>\n",
              "      <td>-1.046977</td>\n",
              "    </tr>\n",
              "    <tr>\n",
              "      <th>3</th>\n",
              "      <td>-0.472779</td>\n",
              "      <td>-0.349291</td>\n",
              "      <td>-1.895664</td>\n",
              "      <td>-1.108477</td>\n",
              "    </tr>\n",
              "    <tr>\n",
              "      <th>4</th>\n",
              "      <td>-1.874790</td>\n",
              "      <td>1.396287</td>\n",
              "      <td>-0.298212</td>\n",
              "      <td>0.282921</td>\n",
              "    </tr>\n",
              "    <tr>\n",
              "      <th>5</th>\n",
              "      <td>1.397045</td>\n",
              "      <td>-0.314185</td>\n",
              "      <td>-0.498622</td>\n",
              "      <td>0.846598</td>\n",
              "    </tr>\n",
              "    <tr>\n",
              "      <th>6</th>\n",
              "      <td>0.780056</td>\n",
              "      <td>-0.714973</td>\n",
              "      <td>0.451502</td>\n",
              "      <td>-1.929598</td>\n",
              "    </tr>\n",
              "    <tr>\n",
              "      <th>7</th>\n",
              "      <td>-0.871773</td>\n",
              "      <td>-0.361120</td>\n",
              "      <td>0.871338</td>\n",
              "      <td>-1.137276</td>\n",
              "    </tr>\n",
              "    <tr>\n",
              "      <th>8</th>\n",
              "      <td>1.754018</td>\n",
              "      <td>1.352423</td>\n",
              "      <td>1.738189</td>\n",
              "      <td>0.212198</td>\n",
              "    </tr>\n",
              "    <tr>\n",
              "      <th>9</th>\n",
              "      <td>-0.617541</td>\n",
              "      <td>0.871587</td>\n",
              "      <td>-0.227888</td>\n",
              "      <td>0.238176</td>\n",
              "    </tr>\n",
              "  </tbody>\n",
              "</table>\n",
              "</div>"
            ],
            "text/plain": [
              "          a         b         c         d\n",
              "0  1.180428 -0.345343  0.463095  0.299796\n",
              "1  2.324571  0.241310 -0.036234 -0.810664\n",
              "2 -0.304005  0.183148  1.104379 -1.046977\n",
              "3 -0.472779 -0.349291 -1.895664 -1.108477\n",
              "4 -1.874790  1.396287 -0.298212  0.282921\n",
              "5  1.397045 -0.314185 -0.498622  0.846598\n",
              "6  0.780056 -0.714973  0.451502 -1.929598\n",
              "7 -0.871773 -0.361120  0.871338 -1.137276\n",
              "8  1.754018  1.352423  1.738189  0.212198\n",
              "9 -0.617541  0.871587 -0.227888  0.238176"
            ]
          },
          "metadata": {
            "tags": []
          },
          "execution_count": 5
        }
      ]
    },
    {
      "cell_type": "code",
      "metadata": {
        "colab": {
          "base_uri": "https://localhost:8080/",
          "height": 441
        },
        "id": "pmT3a76gZhpJ",
        "outputId": "d39ea3c5-2b79-43aa-cc2a-9620cf9b4141"
      },
      "source": [
        "df.plot.bar(title = 'Bar Graph', figsize = (10,7))\n",
        "plt.show()"
      ],
      "execution_count": 9,
      "outputs": [
        {
          "output_type": "display_data",
          "data": {
            "image/png": "[encoded data removed]",
            "text/plain": [
              "<Figure size 720x504 with 1 Axes>"
            ]
          },
          "metadata": {
            "tags": [],
            "needs_background": "light"
          }
        }
      ]
    },
    {
      "cell_type": "code",
      "metadata": {
        "colab": {
          "base_uri": "https://localhost:8080/",
          "height": 441
        },
        "id": "LreANVGPZmHd",
        "outputId": "47cd7499-6aa6-49ef-ffa0-04ae6d734a7f"
      },
      "source": [
        "df.plot.bar(title = 'Bar Graph', figsize = (10,7), stacked = True)\n",
        "plt.show()"
      ],
      "execution_count": 10,
      "outputs": [
        {
          "output_type": "display_data",
          "data": {
            "image/png": "[encoded data removed]",
            "text/plain": [
              "<Figure size 720x504 with 1 Axes>"
            ]
          },
          "metadata": {
            "tags": [],
            "needs_background": "light"
          }
        }
      ]
    },
    {
      "cell_type": "code",
      "metadata": {
        "id": "yJNeeyD3aKKn"
      },
      "source": [
        ""
      ],
      "execution_count": null,
      "outputs": []
    }
  ]
}